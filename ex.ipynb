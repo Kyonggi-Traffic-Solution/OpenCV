{
 "cells": [
  {
   "cell_type": "code",
   "execution_count": null,
   "metadata": {},
   "outputs": [],
   "source": [
    "#OpenCV\n",
    "#pip install opencv-python\n",
    "#pip show opencv-python"
   ]
  },
  {
   "cell_type": "code",
   "execution_count": null,
   "metadata": {},
   "outputs": [],
   "source": [
    "#Roboflow\n",
    "#pip install roboflow\n",
    "#pip show roboflow"
   ]
  },
  {
   "cell_type": "code",
   "execution_count": null,
   "metadata": {},
   "outputs": [],
   "source": [
    "#YOLO\n",
    "#pip install ultralytics\n",
    "#model = YOLO(\"yolo11s.pt\")\n",
    "#yolo predict model=yolov8n.pt source='https://ultralytics.com/images/bus.jpg'\n",
    "#yolo train model=yolov8n.pt data=\"../data.yaml\" epochs=50 imgsz=640"
   ]
  }
 ],
 "metadata": {
  "kernelspec": {
   "display_name": "Python 3",
   "language": "python",
   "name": "python3"
  },
  "language_info": {
   "name": "python",
   "version": "3.13.2"
  }
 },
 "nbformat": 4,
 "nbformat_minor": 2
}
