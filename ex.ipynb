{
 "cells": [
  {
   "cell_type": "code",
   "execution_count": null,
   "metadata": {},
   "outputs": [],
   "source": [
    "#OpenCV\n",
    "#pip install opencv-python\n",
    "#pip show opencv-python"
   ]
  },
  {
   "cell_type": "code",
   "execution_count": null,
   "metadata": {},
   "outputs": [],
   "source": [
    "#Roboflow\n",
    "#pip install roboflow\n",
    "#pip show roboflow"
   ]
  },
  {
   "cell_type": "code",
   "execution_count": null,
   "metadata": {},
   "outputs": [],
   "source": [
    "#YOLO\n",
    "#pip install ultralytics\n",
    "#model = YOLO(\"yolo11s.pt\")\n",
    "#yolo predict model=yolov8n.pt source='https://ultralytics.com/images/bus.jpg'\n",
    "#yolo train model=yolo11s.pt data=\"../data.yaml\" epochs=50 imgsz=640\n",
    "#yolo train model=yolo11s.pt data=\"..data.yaml\" epochs=50 imgsz=640 device=0\n",
    "#yolo val model=best.pt data=data.yaml"
   ]
  },
  {
   "cell_type": "code",
   "execution_count": null,
   "metadata": {},
   "outputs": [],
   "source": [
    "#PyTorch\n",
    "#pip install torch torchvision torchaudio --index-url https://download.pytorch.org/whl/cu124\n",
    "#import torch\n",
    "#print(torch.cuda.is_available())         # True가 나와야 GPU 사용 가능\n",
    "#print(torch.cuda.get_device_name(0))     # GPU 이름 출력\n",
    "#print(torch.version.cuda)"
   ]
  }
 ],
 "metadata": {
  "kernelspec": {
   "display_name": "Python 3",
   "language": "python",
   "name": "python3"
  },
  "language_info": {
   "name": "python",
   "version": "3.13.2"
  }
 },
 "nbformat": 4,
 "nbformat_minor": 2
}
